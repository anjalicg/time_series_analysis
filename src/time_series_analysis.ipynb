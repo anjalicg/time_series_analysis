{
 "cells": [
  {
   "cell_type": "code",
   "id": "initial_id",
   "metadata": {
    "collapsed": true
   },
   "source": [
    "import os\n",
    "import pandas as pd\n",
    "import numpy as np\n",
    "import plotly.express as px\n",
    "import pycountry_convert as pc\n",
    "import PIL\n",
    "import io\n",
    "import kaleido"
   ],
   "outputs": [],
   "execution_count": null
  },
  {
   "metadata": {},
   "cell_type": "code",
   "source": [
    "gdp_pcap = pd.read_csv('../data/gdp_pcap.csv')\n",
    "life_expectancy = pd.read_csv('../data/life_expectancy.csv')\n",
    "population = pd.read_csv('../data/population.csv')"
   ],
   "id": "f0359680c45c8016",
   "outputs": [],
   "execution_count": null
  },
  {
   "metadata": {},
   "cell_type": "code",
   "source": "gdp_pcap.head()",
   "id": "c4aae44e64f27955",
   "outputs": [],
   "execution_count": null
  },
  {
   "metadata": {},
   "cell_type": "code",
   "source": [
    "# Check for null values for each of them\n",
    "gdp_pcap.info()"
   ],
   "id": "3c683b5095a3bc30",
   "outputs": [],
   "execution_count": null
  },
  {
   "metadata": {},
   "cell_type": "code",
   "source": "gdp_pcap.describe()",
   "id": "98d21dd264a3c314",
   "outputs": [],
   "execution_count": null
  },
  {
   "metadata": {},
   "cell_type": "code",
   "source": "gdp_pcap.isnull()",
   "id": "5cffe4b638c42471",
   "outputs": [],
   "execution_count": null
  },
  {
   "metadata": {},
   "cell_type": "code",
   "source": "gdp_pcap.duplicated()",
   "id": "cf56879cca3b61eb",
   "outputs": [],
   "execution_count": null
  },
  {
   "metadata": {},
   "cell_type": "code",
   "source": "",
   "id": "b18990049549499a",
   "outputs": [],
   "execution_count": null
  },
  {
   "metadata": {},
   "cell_type": "code",
   "source": "life_expectancy.info()",
   "id": "23a5f55de3c7612a",
   "outputs": [],
   "execution_count": null
  },
  {
   "metadata": {},
   "cell_type": "code",
   "source": "life_expectancy.describe()",
   "id": "63d2c46467114c08",
   "outputs": [],
   "execution_count": null
  },
  {
   "metadata": {},
   "cell_type": "code",
   "source": "life_expectancy.isnull()",
   "id": "4f603d9f56e7cbe8",
   "outputs": [],
   "execution_count": null
  },
  {
   "metadata": {},
   "cell_type": "code",
   "source": "life_expectancy.duplicated()",
   "id": "a6be78e91a4f91c0",
   "outputs": [],
   "execution_count": null
  },
  {
   "metadata": {},
   "cell_type": "code",
   "source": "population.info()",
   "id": "91dc0c68cd478377",
   "outputs": [],
   "execution_count": null
  },
  {
   "metadata": {},
   "cell_type": "code",
   "source": "population.describe()",
   "id": "c4bc3e9f9af1249a",
   "outputs": [],
   "execution_count": null
  },
  {
   "metadata": {},
   "cell_type": "code",
   "source": "population.isnull()\n",
   "id": "2ecc1ec5df5f454c",
   "outputs": [],
   "execution_count": null
  },
  {
   "metadata": {},
   "cell_type": "code",
   "source": "population.duplicated()",
   "id": "5253586029c9c22e",
   "outputs": [],
   "execution_count": null
  },
  {
   "metadata": {},
   "cell_type": "code",
   "source": [
    "gdp_new = pd.melt(gdp_pcap, id_vars='country', var_name='year',value_name='gdp', ignore_index=True)\n",
    "gdp_new.head()"
   ],
   "id": "8d0feb8ea8ad3f3a",
   "outputs": [],
   "execution_count": null
  },
  {
   "metadata": {},
   "cell_type": "code",
   "source": "gdp_new.describe()",
   "id": "2149fa6407eea870",
   "outputs": [],
   "execution_count": null
  },
  {
   "metadata": {},
   "cell_type": "code",
   "source": "print(gdp_new)",
   "id": "1e598a06473c50e5",
   "outputs": [],
   "execution_count": null
  },
  {
   "metadata": {},
   "cell_type": "code",
   "source": [
    "gdp_new['gdp'] = gdp_new['gdp'].replace({'k': '*1e3', 'M': '*1e6', 'B': '*1e9', np.nan :'0'}, regex=True).map(pd.eval).astype(int)\n",
    "gdp_new['year'] = gdp_new['year'].astype(int)\n",
    "print(gdp_new)\n"
   ],
   "id": "b9c151d35ab8ff61",
   "outputs": [],
   "execution_count": null
  },
  {
   "metadata": {},
   "cell_type": "code",
   "source": [
    "def cleaner(df,value_name,value_name_dtype):\n",
    "    x = pd.melt(df, id_vars='country', var_name='year', value_name= value_name, ignore_index=True)\n",
    "    x[value_name] = x[value_name].replace({'k': '*1e3', 'M': '*1e6', 'B': '*1e9', np.nan :'0'}, regex=True).map(pd.eval).astype(value_name_dtype)\n",
    "    x['year'] = x['year'].astype(int)\n",
    "    return x\n",
    "pop_new = cleaner(population, 'pop', 'int')\n",
    "lex_new = cleaner(life_expectancy, 'lex', 'float')\n",
    "\n"
   ],
   "id": "39cbace2cdc89a40",
   "outputs": [],
   "execution_count": null
  },
  {
   "metadata": {},
   "cell_type": "code",
   "source": "pop_new.head()",
   "id": "b50f3f20c9c8cdaf",
   "outputs": [],
   "execution_count": null
  },
  {
   "metadata": {},
   "cell_type": "code",
   "source": "merge_gdp_pop = gdp_new.merge(pop_new, how='left', left_on=['country', 'year'], right_on=['country','year'])\n",
   "id": "9e71e2a8c2bf4b",
   "outputs": [],
   "execution_count": null
  },
  {
   "metadata": {},
   "cell_type": "code",
   "source": [
    "gapminder_df = merge_gdp_pop.merge(lex_new, how='left',left_on=['country', 'year'], right_on=['country','year'])\n",
    "\n",
    "print(gapminder_df)"
   ],
   "id": "cce77882790abc8f",
   "outputs": [],
   "execution_count": null
  },
  {
   "metadata": {},
   "cell_type": "code",
   "source": [
    "gapminder_df.dropna(inplace=True)\n",
    "gapminder_df.reset_index(drop=True, inplace=True)\n",
    "gapminder_df[\"gdp\"] = gapminder_df[\"gdp\"].astype(int)\n",
    "gapminder_df[\"pop\"] = gapminder_df[\"pop\"].astype(int)\n"
   ],
   "id": "9500d1e91f13e52d",
   "outputs": [],
   "execution_count": null
  },
  {
   "metadata": {},
   "cell_type": "code",
   "source": "print(gapminder_df)",
   "id": "10de64661f45b884",
   "outputs": [],
   "execution_count": null
  },
  {
   "metadata": {},
   "cell_type": "code",
   "source": [
    "gapminder_df['country_code'] = gapminder_df['country'].apply(lambda x: pc.country_name_to_country_alpha2(x, cn_name_format=\"default\"))\n",
    "gapminder_df.head()"
   ],
   "id": "576eb368c9157ced",
   "outputs": [],
   "execution_count": null
  },
  {
   "metadata": {},
   "cell_type": "code",
   "source": [
    "gapminder_df[gapminder_df['country_code']=='TL'] = gapminder_df[gapminder_df['country_code']=='TL'].assign(country_code='TP')\n",
    "print(gapminder_df.query(\"country=='Timor-Leste'\"))"
   ],
   "id": "c243a5a9d330d3e6",
   "outputs": [],
   "execution_count": null
  },
  {
   "metadata": {},
   "cell_type": "code",
   "source": [
    "gapminder_df['continent_code'] = gapminder_df['country_code'].apply(lambda x: pc.country_alpha2_to_continent_code(x))\n",
    "gapminder_df.head()"
   ],
   "id": "f9005e936af1fbc4",
   "outputs": [],
   "execution_count": null
  },
  {
   "metadata": {},
   "cell_type": "code",
   "source": [
    "gapminder_df['continent'] = gapminder_df[\"continent_code\"].apply(lambda x: pc.convert_continent_code_to_continent_name(x))\n",
    "gapminder_df.head()"
   ],
   "id": "fe9f6a2252c41577",
   "outputs": [],
   "execution_count": null
  },
  {
   "metadata": {},
   "cell_type": "code",
   "source": "gapminder_df.drop(columns=['country_code','continent_code'], inplace=True)\n",
   "id": "25be065b617be6ce",
   "outputs": [],
   "execution_count": null
  },
  {
   "metadata": {},
   "cell_type": "code",
   "source": "gapminder_df.head()",
   "id": "82508156cea6d026",
   "outputs": [],
   "execution_count": null
  },
  {
   "metadata": {},
   "cell_type": "code",
   "source": [
    "df = gapminder_df.query(\"year>1899 and year <2024\")#[(gapminder_df['year'] > 1899) & (gapminder_df['year'] < 2024)]\n",
    "print(df)"
   ],
   "id": "9bc5cb378c6d3f9f",
   "outputs": [],
   "execution_count": null
  },
  {
   "metadata": {},
   "cell_type": "code",
   "source": [
    "fig = px.scatter(df, x='gdp', y='lex', animation_frame='year', animation_group='country',\n",
    "       size='pop', color='continent', hover_name='country', log_x = True, size_max=100,\n",
    "      range_x=[500,200000], range_y=[0,90], labels=dict(gdp=\"GDP Per Capita ($)\",\n",
    "        lex=\"Life Expectancy (years)\", continent=\"Continents\"),\n",
    "        title = 'GDP Per Capita, Life Expectancy & Population (1900-2023)')\n",
    "fig.update_layout(title_x=0.5,\n",
    "              xaxis=dict(showgrid=False, tickmode = 'array',\n",
    "                tickvals = [500, 1000, 10000, 100000, 200000],\n",
    "                ticktext = [500, 1000, '10K', '100K','200K']),\n",
    "              yaxis=dict(showgrid=False))\n",
    "\n",
    "fig.show()"
   ],
   "id": "d6b08d2cdaa7946d",
   "outputs": [],
   "execution_count": null
  },
  {
   "metadata": {},
   "cell_type": "code",
   "source": [
    "import kaleido\n",
    "from kaleido.scopes.plotly import PlotlyScope\n",
    "frames = []\n",
    "for s, fr in enumerate(fig.frames):\n",
    "    fig.update(data=fr.data)\n",
    "    fig.layout.sliders[0].update(active=s)\n",
    "frames.append(PIL.Image.open(io.BytesIO(fig.to_image(format=\"png\"))))\n",
    "\n",
    "frames[0].save(\"/Users/anjali/Downloads/GitCode/time_series_analysis/data/animated_chart.gif\",save_all=True, append_images=frames[1:], optimize=True, duration=100,loop=0)"
   ],
   "id": "f5080c550f32defd",
   "outputs": [],
   "execution_count": null
  }
 ],
 "metadata": {
  "kernelspec": {
   "display_name": "Python 3",
   "language": "python",
   "name": "python3"
  },
  "language_info": {
   "codemirror_mode": {
    "name": "ipython",
    "version": 2
   },
   "file_extension": ".py",
   "mimetype": "text/x-python",
   "name": "python",
   "nbconvert_exporter": "python",
   "pygments_lexer": "ipython2",
   "version": "2.7.6"
  }
 },
 "nbformat": 4,
 "nbformat_minor": 5
}
